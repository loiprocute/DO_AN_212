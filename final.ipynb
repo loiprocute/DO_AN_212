{
 "cells": [
  {
   "cell_type": "code",
   "execution_count": 1,
   "metadata": {},
   "outputs": [
    {
     "name": "stdout",
     "output_type": "stream",
     "text": [
      "WARNING:tensorflow:Please fix your imports. Module tensorflow.python.training.tracking.base has been moved to tensorflow.python.trackable.base. The old module will be deleted in version 2.11.\n",
      "WARNING:tensorflow:Please fix your imports. Module tensorflow.python.training.checkpoint_management has been moved to tensorflow.python.checkpoint.checkpoint_management. The old module will be deleted in version 2.9.\n",
      "WARNING:tensorflow:Please fix your imports. Module tensorflow.python.training.tracking.resource has been moved to tensorflow.python.trackable.resource. The old module will be deleted in version 2.11.\n",
      "WARNING:tensorflow:Please fix your imports. Module tensorflow.python.training.tracking.util has been moved to tensorflow.python.checkpoint.checkpoint. The old module will be deleted in version 2.11.\n",
      "WARNING:tensorflow:Please fix your imports. Module tensorflow.python.training.tracking.base_delegate has been moved to tensorflow.python.trackable.base_delegate. The old module will be deleted in version 2.11.\n",
      "WARNING:tensorflow:Please fix your imports. Module tensorflow.python.training.tracking.graph_view has been moved to tensorflow.python.checkpoint.graph_view. The old module will be deleted in version 2.11.\n",
      "WARNING:tensorflow:Please fix your imports. Module tensorflow.python.training.tracking.python_state has been moved to tensorflow.python.trackable.python_state. The old module will be deleted in version 2.11.\n",
      "WARNING:tensorflow:Please fix your imports. Module tensorflow.python.training.saving.functional_saver has been moved to tensorflow.python.checkpoint.functional_saver. The old module will be deleted in version 2.11.\n",
      "WARNING:tensorflow:Please fix your imports. Module tensorflow.python.training.saving.checkpoint_options has been moved to tensorflow.python.checkpoint.checkpoint_options. The old module will be deleted in version 2.11.\n"
     ]
    }
   ],
   "source": [
    "from math import sqrt\n",
    "from numpy import concatenate\n",
    "from matplotlib import pyplot\n",
    "from pandas import read_csv\n",
    "from pandas import DataFrame\n",
    "from pandas import concat\n",
    "from sklearn.preprocessing import MinMaxScaler\n",
    "from sklearn.preprocessing import LabelEncoder\n",
    "from sklearn.metrics import mean_squared_error\n",
    "from keras.models import Sequential,load_model\n",
    "from keras.layers import Dense,Dropout\n",
    "from keras.layers import LSTM\n",
    "from collections import deque\n",
    "import numpy as np\n",
    "import random\n",
    "import time\n",
    "import joblib\n"
   ]
  },
  {
   "cell_type": "code",
   "execution_count": 2,
   "metadata": {},
   "outputs": [],
   "source": [
    "def series_to_supervised(data, n_in=1, n_out=1, dropnan=True):\n",
    "        n_vars = 1 if type(data) is list else data.shape[1]\n",
    "        df = DataFrame(data)\n",
    "        cols, names = list(), list()\n",
    "        # input sequence (t-n, ... t-1)\n",
    "        for i in range(n_in, 0, -1):\n",
    "            cols.append(df.shift(i))\n",
    "            names += [('var%d(t-%d)' % (j+1, i)) for j in range(n_vars)]\n",
    "        # forecast sequence (t, t+1, ... t+n)\n",
    "        for i in range(0, n_out):\n",
    "            cols.append(df.shift(-i))\n",
    "            if i == 0:\n",
    "                names += [('var%d(t)' % (j+1)) for j in range(n_vars)]\n",
    "            else:\n",
    "                names += [('var%d(t+%d)' % (j+1, i)) for j in range(n_vars)]\n",
    "        # put it all together\n",
    "        agg = concat(cols, axis=1)\n",
    "        agg.columns = names\n",
    "        # drop rows with NaN values\n",
    "        if dropnan:\n",
    "            agg.dropna(inplace=True)\n",
    "        return agg"
   ]
  },
  {
   "cell_type": "code",
   "execution_count": 3,
   "metadata": {},
   "outputs": [],
   "source": [
    "dataset = read_csv('final_data.csv', header=0, index_col=0)\n",
    "dataset[8320:].to_csv(\"data_test.csv\")\n",
    "data_train=dataset[:8320]\n",
    "values = data_train.values\n",
    "values = data_train.astype('float32')\n",
    "# normalize features\n",
    "scaler = MinMaxScaler(feature_range=(0, 1))\n",
    "scaled = scaler.fit_transform(values)\n",
    "# frame as supervised learning\n",
    "reframed = series_to_supervised(scaled, 3, 1)\n",
    "# drop columns we don't want to predict\n",
    "reframed.drop(reframed.columns[[12,13,14]], axis=1, inplace=True)"
   ]
  },
  {
   "cell_type": "code",
   "execution_count": 4,
   "metadata": {},
   "outputs": [
    {
     "name": "stdout",
     "output_type": "stream",
     "text": [
      "(7488, 1, 12) (7488,) (829, 1, 12) (829,)\n"
     ]
    }
   ],
   "source": [
    "# split into train and test sets\n",
    "values = reframed.values\n",
    "n_train = 288 * 26\n",
    "train = values[:n_train, :]\n",
    "test = values[n_train:, :]\n",
    "# split into input and outputs\n",
    "train_X, train_y = train[:, :-1], train[:, -1]\n",
    "val_X, val_y = test[:, :-1], test[:, -1]\n",
    "# reshape input to be 3D [samples, timesteps, features]\n",
    "train_X = train_X.reshape((train_X.shape[0], 1, train_X.shape[1]))\n",
    "val_X = val_X.reshape((val_X.shape[0], 1, val_X.shape[1]))\n",
    "print(train_X.shape, train_y.shape, val_X.shape, val_y.shape)"
   ]
  },
  {
   "cell_type": "code",
   "execution_count": 5,
   "metadata": {},
   "outputs": [
    {
     "name": "stdout",
     "output_type": "stream",
     "text": [
      "Epoch 1/50\n",
      "125/125 - 11s - loss: 0.3353 - val_loss: 0.0629 - 11s/epoch - 87ms/step\n",
      "Epoch 2/50\n",
      "125/125 - 1s - loss: 0.0586 - val_loss: 0.0154 - 1s/epoch - 9ms/step\n",
      "Epoch 3/50\n",
      "125/125 - 1s - loss: 0.0177 - val_loss: 0.0095 - 954ms/epoch - 8ms/step\n",
      "Epoch 4/50\n",
      "125/125 - 1s - loss: 0.0113 - val_loss: 0.0075 - 826ms/epoch - 7ms/step\n",
      "Epoch 5/50\n",
      "125/125 - 1s - loss: 0.0091 - val_loss: 0.0066 - 827ms/epoch - 7ms/step\n",
      "Epoch 6/50\n",
      "125/125 - 1s - loss: 0.0082 - val_loss: 0.0054 - 809ms/epoch - 6ms/step\n",
      "Epoch 7/50\n",
      "125/125 - 1s - loss: 0.0074 - val_loss: 0.0048 - 886ms/epoch - 7ms/step\n",
      "Epoch 8/50\n",
      "125/125 - 1s - loss: 0.0070 - val_loss: 0.0054 - 869ms/epoch - 7ms/step\n",
      "Epoch 9/50\n",
      "125/125 - 1s - loss: 0.0069 - val_loss: 0.0041 - 825ms/epoch - 7ms/step\n",
      "Epoch 10/50\n",
      "125/125 - 1s - loss: 0.0066 - val_loss: 0.0037 - 875ms/epoch - 7ms/step\n",
      "Epoch 11/50\n",
      "125/125 - 1s - loss: 0.0054 - val_loss: 0.0037 - 888ms/epoch - 7ms/step\n",
      "Epoch 12/50\n",
      "125/125 - 1s - loss: 0.0054 - val_loss: 0.0037 - 904ms/epoch - 7ms/step\n",
      "Epoch 13/50\n",
      "125/125 - 1s - loss: 0.0045 - val_loss: 0.0037 - 971ms/epoch - 8ms/step\n",
      "Epoch 14/50\n",
      "125/125 - 1s - loss: 0.0045 - val_loss: 0.0036 - 841ms/epoch - 7ms/step\n",
      "Epoch 15/50\n",
      "125/125 - 1s - loss: 0.0045 - val_loss: 0.0036 - 855ms/epoch - 7ms/step\n",
      "Epoch 16/50\n",
      "125/125 - 1s - loss: 0.0045 - val_loss: 0.0036 - 897ms/epoch - 7ms/step\n",
      "Epoch 17/50\n",
      "125/125 - 1s - loss: 0.0044 - val_loss: 0.0036 - 948ms/epoch - 8ms/step\n",
      "Epoch 18/50\n",
      "125/125 - 1s - loss: 0.0044 - val_loss: 0.0036 - 851ms/epoch - 7ms/step\n",
      "Epoch 19/50\n",
      "125/125 - 1s - loss: 0.0044 - val_loss: 0.0036 - 933ms/epoch - 7ms/step\n",
      "Epoch 20/50\n",
      "125/125 - 1s - loss: 0.0044 - val_loss: 0.0036 - 803ms/epoch - 6ms/step\n",
      "Epoch 21/50\n",
      "125/125 - 1s - loss: 0.0044 - val_loss: 0.0036 - 858ms/epoch - 7ms/step\n",
      "Epoch 22/50\n",
      "125/125 - 1s - loss: 0.0044 - val_loss: 0.0036 - 881ms/epoch - 7ms/step\n",
      "Epoch 23/50\n",
      "125/125 - 1s - loss: 0.0044 - val_loss: 0.0036 - 888ms/epoch - 7ms/step\n",
      "Epoch 24/50\n",
      "125/125 - 1s - loss: 0.0044 - val_loss: 0.0036 - 927ms/epoch - 7ms/step\n",
      "Epoch 25/50\n",
      "125/125 - 1s - loss: 0.0044 - val_loss: 0.0036 - 842ms/epoch - 7ms/step\n",
      "Epoch 26/50\n",
      "125/125 - 1s - loss: 0.0044 - val_loss: 0.0036 - 829ms/epoch - 7ms/step\n",
      "Epoch 27/50\n",
      "125/125 - 1s - loss: 0.0044 - val_loss: 0.0036 - 872ms/epoch - 7ms/step\n",
      "Epoch 28/50\n",
      "125/125 - 1s - loss: 0.0044 - val_loss: 0.0036 - 825ms/epoch - 7ms/step\n",
      "Epoch 29/50\n",
      "125/125 - 1s - loss: 0.0044 - val_loss: 0.0036 - 869ms/epoch - 7ms/step\n",
      "Epoch 30/50\n",
      "125/125 - 1s - loss: 0.0044 - val_loss: 0.0036 - 902ms/epoch - 7ms/step\n",
      "Epoch 31/50\n",
      "125/125 - 1s - loss: 0.0044 - val_loss: 0.0036 - 806ms/epoch - 6ms/step\n",
      "Epoch 32/50\n",
      "125/125 - 1s - loss: 0.0044 - val_loss: 0.0036 - 861ms/epoch - 7ms/step\n",
      "Epoch 33/50\n",
      "125/125 - 1s - loss: 0.0044 - val_loss: 0.0036 - 884ms/epoch - 7ms/step\n",
      "Epoch 34/50\n",
      "125/125 - 1s - loss: 0.0044 - val_loss: 0.0036 - 868ms/epoch - 7ms/step\n",
      "Epoch 35/50\n",
      "125/125 - 1s - loss: 0.0044 - val_loss: 0.0036 - 870ms/epoch - 7ms/step\n",
      "Epoch 36/50\n",
      "125/125 - 1s - loss: 0.0044 - val_loss: 0.0036 - 929ms/epoch - 7ms/step\n",
      "Epoch 37/50\n",
      "125/125 - 1s - loss: 0.0044 - val_loss: 0.0036 - 850ms/epoch - 7ms/step\n",
      "Epoch 38/50\n",
      "125/125 - 1s - loss: 0.0044 - val_loss: 0.0036 - 886ms/epoch - 7ms/step\n",
      "Epoch 39/50\n",
      "125/125 - 1s - loss: 0.0044 - val_loss: 0.0036 - 896ms/epoch - 7ms/step\n",
      "Epoch 40/50\n",
      "125/125 - 1s - loss: 0.0044 - val_loss: 0.0036 - 843ms/epoch - 7ms/step\n",
      "Epoch 41/50\n",
      "125/125 - 1s - loss: 0.0044 - val_loss: 0.0036 - 909ms/epoch - 7ms/step\n",
      "Epoch 42/50\n",
      "125/125 - 1s - loss: 0.0044 - val_loss: 0.0036 - 906ms/epoch - 7ms/step\n",
      "Epoch 43/50\n",
      "125/125 - 1s - loss: 0.0044 - val_loss: 0.0036 - 940ms/epoch - 8ms/step\n",
      "Epoch 44/50\n",
      "125/125 - 1s - loss: 0.0044 - val_loss: 0.0036 - 929ms/epoch - 7ms/step\n",
      "Epoch 45/50\n",
      "125/125 - 1s - loss: 0.0044 - val_loss: 0.0036 - 880ms/epoch - 7ms/step\n",
      "Epoch 46/50\n",
      "125/125 - 1s - loss: 0.0044 - val_loss: 0.0036 - 858ms/epoch - 7ms/step\n",
      "Epoch 47/50\n",
      "125/125 - 1s - loss: 0.0044 - val_loss: 0.0036 - 931ms/epoch - 7ms/step\n",
      "Epoch 48/50\n",
      "125/125 - 1s - loss: 0.0044 - val_loss: 0.0036 - 823ms/epoch - 7ms/step\n",
      "Epoch 49/50\n",
      "125/125 - 1s - loss: 0.0044 - val_loss: 0.0036 - 868ms/epoch - 7ms/step\n",
      "Epoch 50/50\n",
      "125/125 - 1s - loss: 0.0044 - val_loss: 0.0036 - 892ms/epoch - 7ms/step\n"
     ]
    },
    {
     "data": {
      "image/png": "[encoded data removed]",
      "text/plain": [
       "<Figure size 432x288 with 1 Axes>"
      ]
     },
     "metadata": {
      "needs_background": "light"
     },
     "output_type": "display_data"
    }
   ],
   "source": [
    "model = Sequential()\n",
    "model.add(LSTM(50,return_sequences = True, input_shape=(train_X.shape[1], train_X.shape[2])))\n",
    "model.add(Dropout(0.2))\n",
    "\n",
    "model.add(LSTM(50, return_sequences = True))\n",
    "model.add(Dropout(0.2))\n",
    "\n",
    "model.add(LSTM(50, return_sequences = True))\n",
    "model.add(Dropout(0.2))\n",
    "\n",
    "model.add(LSTM(50))\n",
    "model.add(Dropout(0.2))\n",
    "\n",
    "model.add(Dense(1,activation='sigmoid'))\n",
    "\n",
    "# fit network\n",
    "model.compile(optimizer = 'adam', loss = 'mae')\n",
    "\n",
    "history = model.fit(train_X, train_y, epochs=50, batch_size=60, validation_data=(val_X, val_y),verbose=2,shuffle=False)\n",
    "# plot history\n",
    "pyplot.plot(history.history['loss'], label='train')\n",
    "pyplot.plot(history.history['val_loss'], label='val')\n",
    "pyplot.legend()\n",
    "pyplot.show()"
   ]
  },
  {
   "cell_type": "code",
   "execution_count": 6,
   "metadata": {},
   "outputs": [],
   "source": [
    "joblib.dump(scaler, 'std_scaler.bin', compress=True)\n",
    "model.save('train.h5')"
   ]
  },
  {
   "cell_type": "code",
   "execution_count": 8,
   "metadata": {},
   "outputs": [
    {
     "name": "stdout",
     "output_type": "stream",
     "text": [
      "colect data : [55.17 83.94 17.29  0.  ]\n"
     ]
    },
    {
     "name": "stderr",
     "output_type": "stream",
     "text": [
      "C:\\Users\\PC\\AppData\\Roaming\\Python\\Python38\\site-packages\\sklearn\\base.py:450: UserWarning: X does not have valid feature names, but MinMaxScaler was fitted with feature names\n",
      "  warnings.warn(\n"
     ]
    }
   ],
   "source": [
    "#test model\n",
    "sc=joblib.load('std_scaler.bin')\n",
    "new_model = load_model('train.h5')\n",
    "test_dt = read_csv('data_test.csv', header=0, index_col=0)\n",
    "total=[]\n",
    "for i in range(10):\n",
    "    collect_data=test_dt.values[i]\n",
    "    print('colect data :',collect_data)\n",
    "    collect_data=np.array(collect_data).reshape(1,4)\n",
    "    collect_data = collect_data.astype('float32')\n",
    "    collect_data = sc.transform(collect_data)\n",
    "    total.append(collect_data)\n",
    "    if len(total)>=3:\n",
    "        if len(total)>3:\n",
    "            total.pop(0)\n",
    "        x_pred=np.concatenate([total[0][0],total[1][0],total[2][0]])\n",
    "        x_pred=x_pred.reshape(1,1,12)\n",
    "        y_h=new_model.predict(x_pred)\n",
    "        print('predict : ',1 if y_h[0][0]>0.5 else 0)\n",
    "        \n",
    "    time.sleep(5)\n",
    "    "
   ]
  }
 ],
 "metadata": {
  "kernelspec": {
   "display_name": "Python 3.8.3 64-bit",
   "language": "python",
   "name": "python3"
  },
  "language_info": {
   "codemirror_mode": {
    "name": "ipython",
    "version": 3
   },
   "file_extension": ".py",
   "mimetype": "text/x-python",
   "name": "python",
   "nbconvert_exporter": "python",
   "pygments_lexer": "ipython3",
   "version": "3.8.3"
  },
  "orig_nbformat": 4,
  "vscode": {
   "interpreter": {
    "hash": "570feb405e2e27c949193ac68f46852414290d515b0ba6e5d90d076ed2284471"
   }
  }
 },
 "nbformat": 4,
 "nbformat_minor": 2
}
